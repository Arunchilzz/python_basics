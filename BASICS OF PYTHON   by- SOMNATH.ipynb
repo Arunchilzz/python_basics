{
 "cells": [
  {
   "cell_type": "markdown",
   "id": "3cf09189",
   "metadata": {},
   "source": [
    "# variable declaration"
   ]
  },
  {
   "cell_type": "code",
   "execution_count": 4,
   "id": "f219cde0",
   "metadata": {},
   "outputs": [],
   "source": [
    "x=20"
   ]
  },
  {
   "cell_type": "code",
   "execution_count": 5,
   "id": "635bb21a",
   "metadata": {},
   "outputs": [
    {
     "data": {
      "text/plain": [
       "2505273928592"
      ]
     },
     "execution_count": 5,
     "metadata": {},
     "output_type": "execute_result"
    }
   ],
   "source": [
    "id(x)"
   ]
  },
  {
   "cell_type": "code",
   "execution_count": 6,
   "id": "69e66348",
   "metadata": {},
   "outputs": [],
   "source": [
    "#different types of variable names in python"
   ]
  },
  {
   "cell_type": "code",
   "execution_count": null,
   "id": "59e8a59a",
   "metadata": {},
   "outputs": [],
   "source": [
    "x,y=10,20"
   ]
  },
  {
   "cell_type": "code",
   "execution_count": 10,
   "id": "abb6c22b",
   "metadata": {},
   "outputs": [],
   "source": [
    "tem=x\n",
    "x=y\n",
    "y=tem"
   ]
  },
  {
   "cell_type": "code",
   "execution_count": 11,
   "id": "ac333916",
   "metadata": {},
   "outputs": [
    {
     "data": {
      "text/plain": [
       "20"
      ]
     },
     "execution_count": 11,
     "metadata": {},
     "output_type": "execute_result"
    }
   ],
   "source": [
    "x"
   ]
  },
  {
   "cell_type": "code",
   "execution_count": 12,
   "id": "6ce96c34",
   "metadata": {},
   "outputs": [
    {
     "data": {
      "text/plain": [
       "10"
      ]
     },
     "execution_count": 12,
     "metadata": {},
     "output_type": "execute_result"
    }
   ],
   "source": [
    "y"
   ]
  },
  {
   "cell_type": "code",
   "execution_count": 13,
   "id": "b687d5d7",
   "metadata": {},
   "outputs": [],
   "source": [
    "x,y=10,20\n",
    "x,y=y,x"
   ]
  },
  {
   "cell_type": "code",
   "execution_count": 14,
   "id": "a46a58ab",
   "metadata": {},
   "outputs": [
    {
     "data": {
      "text/plain": [
       "20"
      ]
     },
     "execution_count": 14,
     "metadata": {},
     "output_type": "execute_result"
    }
   ],
   "source": [
    "x"
   ]
  },
  {
   "cell_type": "code",
   "execution_count": 15,
   "id": "1c071bc0",
   "metadata": {},
   "outputs": [
    {
     "data": {
      "text/plain": [
       "10"
      ]
     },
     "execution_count": 15,
     "metadata": {},
     "output_type": "execute_result"
    }
   ],
   "source": [
    "y"
   ]
  },
  {
   "cell_type": "code",
   "execution_count": 16,
   "id": "103ee2d3",
   "metadata": {},
   "outputs": [],
   "source": [
    "x=10\n",
    "y=5\n",
    "x,y,x=x+y,x*y,x-3"
   ]
  },
  {
   "cell_type": "code",
   "execution_count": 17,
   "id": "1c10b952",
   "metadata": {},
   "outputs": [
    {
     "data": {
      "text/plain": [
       "7"
      ]
     },
     "execution_count": 17,
     "metadata": {},
     "output_type": "execute_result"
    }
   ],
   "source": [
    "x"
   ]
  },
  {
   "cell_type": "code",
   "execution_count": 18,
   "id": "e3311a92",
   "metadata": {},
   "outputs": [
    {
     "data": {
      "text/plain": [
       "50"
      ]
     },
     "execution_count": 18,
     "metadata": {},
     "output_type": "execute_result"
    }
   ],
   "source": [
    "y"
   ]
  },
  {
   "cell_type": "code",
   "execution_count": 19,
   "id": "dd9ef9c4",
   "metadata": {},
   "outputs": [
    {
     "ename": "ValueError",
     "evalue": "too many values to unpack (expected 2)",
     "output_type": "error",
     "traceback": [
      "\u001b[1;31m---------------------------------------------------------------------------\u001b[0m",
      "\u001b[1;31mValueError\u001b[0m                                Traceback (most recent call last)",
      "Input \u001b[1;32mIn [19]\u001b[0m, in \u001b[0;36m<cell line: 1>\u001b[1;34m()\u001b[0m\n\u001b[1;32m----> 1\u001b[0m x,y\u001b[38;5;241m=\u001b[39m\u001b[38;5;241m10\u001b[39m,\u001b[38;5;241m2\u001b[39m,\u001b[38;5;241m3\u001b[39m\n",
      "\u001b[1;31mValueError\u001b[0m: too many values to unpack (expected 2)"
     ]
    }
   ],
   "source": [
    "x,y=10,2,3"
   ]
  },
  {
   "cell_type": "code",
   "execution_count": 20,
   "id": "f54a807d",
   "metadata": {},
   "outputs": [],
   "source": [
    "x,y,x=10,2,3"
   ]
  },
  {
   "cell_type": "code",
   "execution_count": 21,
   "id": "49ae1361",
   "metadata": {},
   "outputs": [
    {
     "data": {
      "text/plain": [
       "3"
      ]
     },
     "execution_count": 21,
     "metadata": {},
     "output_type": "execute_result"
    }
   ],
   "source": [
    "x"
   ]
  },
  {
   "cell_type": "code",
   "execution_count": 22,
   "id": "749eaf3e",
   "metadata": {},
   "outputs": [
    {
     "data": {
      "text/plain": [
       "2"
      ]
     },
     "execution_count": 22,
     "metadata": {},
     "output_type": "execute_result"
    }
   ],
   "source": [
    "y"
   ]
  },
  {
   "cell_type": "markdown",
   "id": "bce24f8b",
   "metadata": {},
   "source": [
    "# datatype"
   ]
  },
  {
   "cell_type": "markdown",
   "id": "d72b5f33",
   "metadata": {},
   "source": [
    "# # int and float"
   ]
  },
  {
   "cell_type": "code",
   "execution_count": 23,
   "id": "cec99d88",
   "metadata": {},
   "outputs": [],
   "source": [
    "x=10"
   ]
  },
  {
   "cell_type": "code",
   "execution_count": 24,
   "id": "f6736bf6",
   "metadata": {},
   "outputs": [
    {
     "data": {
      "text/plain": [
       "int"
      ]
     },
     "execution_count": 24,
     "metadata": {},
     "output_type": "execute_result"
    }
   ],
   "source": [
    "type(x)"
   ]
  },
  {
   "cell_type": "code",
   "execution_count": 25,
   "id": "c011f0f0",
   "metadata": {},
   "outputs": [],
   "source": [
    "x=15.3\n"
   ]
  },
  {
   "cell_type": "code",
   "execution_count": 26,
   "id": "ef1e9d82",
   "metadata": {},
   "outputs": [
    {
     "data": {
      "text/plain": [
       "float"
      ]
     },
     "execution_count": 26,
     "metadata": {},
     "output_type": "execute_result"
    }
   ],
   "source": [
    "type(x)"
   ]
  },
  {
   "cell_type": "code",
   "execution_count": 30,
   "id": "393969ac",
   "metadata": {},
   "outputs": [
    {
     "data": {
      "text/plain": [
       "10.0"
      ]
     },
     "execution_count": 30,
     "metadata": {},
     "output_type": "execute_result"
    }
   ],
   "source": [
    "#breach\n",
    "x=10.7\n",
    "x=int(x)\n",
    "type(x)\n",
    "x\n",
    "x=float(x)\n",
    "x"
   ]
  },
  {
   "cell_type": "markdown",
   "id": "a0087f2a",
   "metadata": {},
   "source": [
    "# strings"
   ]
  },
  {
   "cell_type": "code",
   "execution_count": 43,
   "id": "ed96060f",
   "metadata": {},
   "outputs": [],
   "source": [
    "x=\"python\"\n",
    "y='python'\n"
   ]
  },
  {
   "cell_type": "code",
   "execution_count": 44,
   "id": "af8ae763",
   "metadata": {},
   "outputs": [
    {
     "data": {
      "text/plain": [
       "True"
      ]
     },
     "execution_count": 44,
     "metadata": {},
     "output_type": "execute_result"
    }
   ],
   "source": [
    "x==y"
   ]
  },
  {
   "cell_type": "code",
   "execution_count": 45,
   "id": "fbf80b74",
   "metadata": {},
   "outputs": [
    {
     "data": {
      "text/plain": [
       "'PYTHON'"
      ]
     },
     "execution_count": 45,
     "metadata": {},
     "output_type": "execute_result"
    }
   ],
   "source": [
    "x.upper()"
   ]
  },
  {
   "cell_type": "code",
   "execution_count": 46,
   "id": "59208b69",
   "metadata": {},
   "outputs": [
    {
     "data": {
      "text/plain": [
       "'python'"
      ]
     },
     "execution_count": 46,
     "metadata": {},
     "output_type": "execute_result"
    }
   ],
   "source": [
    "x.lower()"
   ]
  },
  {
   "cell_type": "code",
   "execution_count": 48,
   "id": "8fa9c9c8",
   "metadata": {},
   "outputs": [
    {
     "data": {
      "text/plain": [
       "'Python'"
      ]
     },
     "execution_count": 48,
     "metadata": {},
     "output_type": "execute_result"
    }
   ],
   "source": [
    "x.capitalize()"
   ]
  },
  {
   "cell_type": "code",
   "execution_count": 50,
   "id": "fb0b29ad",
   "metadata": {},
   "outputs": [
    {
     "data": {
      "text/plain": [
       "'p'"
      ]
     },
     "execution_count": 50,
     "metadata": {},
     "output_type": "execute_result"
    }
   ],
   "source": [
    "x[0]"
   ]
  },
  {
   "cell_type": "code",
   "execution_count": 51,
   "id": "b2dc24d7",
   "metadata": {},
   "outputs": [
    {
     "data": {
      "text/plain": [
       "'t'"
      ]
     },
     "execution_count": 51,
     "metadata": {},
     "output_type": "execute_result"
    }
   ],
   "source": [
    "x[2]"
   ]
  },
  {
   "cell_type": "code",
   "execution_count": 53,
   "id": "4a6c437d",
   "metadata": {},
   "outputs": [
    {
     "data": {
      "text/plain": [
       "4"
      ]
     },
     "execution_count": 53,
     "metadata": {},
     "output_type": "execute_result"
    }
   ],
   "source": [
    "x.find(\"o\")"
   ]
  },
  {
   "cell_type": "code",
   "execution_count": 54,
   "id": "143abcb7",
   "metadata": {},
   "outputs": [
    {
     "data": {
      "text/plain": [
       "1"
      ]
     },
     "execution_count": 54,
     "metadata": {},
     "output_type": "execute_result"
    }
   ],
   "source": [
    "x.count('p')"
   ]
  },
  {
   "cell_type": "code",
   "execution_count": 55,
   "id": "aa1d9766",
   "metadata": {},
   "outputs": [
    {
     "data": {
      "text/plain": [
       "True"
      ]
     },
     "execution_count": 55,
     "metadata": {},
     "output_type": "execute_result"
    }
   ],
   "source": [
    "x.isalpha()"
   ]
  },
  {
   "cell_type": "code",
   "execution_count": 56,
   "id": "cf8db2bf",
   "metadata": {},
   "outputs": [
    {
     "data": {
      "text/plain": [
       "False"
      ]
     },
     "execution_count": 56,
     "metadata": {},
     "output_type": "execute_result"
    }
   ],
   "source": [
    "x.isupper()"
   ]
  },
  {
   "cell_type": "code",
   "execution_count": 57,
   "id": "04db8ad1",
   "metadata": {},
   "outputs": [
    {
     "data": {
      "text/plain": [
       "'pythonpython'"
      ]
     },
     "execution_count": 57,
     "metadata": {},
     "output_type": "execute_result"
    }
   ],
   "source": [
    "x*2"
   ]
  },
  {
   "cell_type": "code",
   "execution_count": 58,
   "id": "dde4c258",
   "metadata": {},
   "outputs": [
    {
     "data": {
      "text/plain": [
       "'pythonpythonpythonpythonpython'"
      ]
     },
     "execution_count": 58,
     "metadata": {},
     "output_type": "execute_result"
    }
   ],
   "source": [
    "x*5"
   ]
  },
  {
   "cell_type": "code",
   "execution_count": 59,
   "id": "5c1f2ed6",
   "metadata": {},
   "outputs": [
    {
     "data": {
      "text/plain": [
       "'p'"
      ]
     },
     "execution_count": 59,
     "metadata": {},
     "output_type": "execute_result"
    }
   ],
   "source": [
    "x[0]"
   ]
  },
  {
   "cell_type": "code",
   "execution_count": 60,
   "id": "1372fe88",
   "metadata": {},
   "outputs": [
    {
     "ename": "TypeError",
     "evalue": "'str' object does not support item assignment",
     "output_type": "error",
     "traceback": [
      "\u001b[1;31m---------------------------------------------------------------------------\u001b[0m",
      "\u001b[1;31mTypeError\u001b[0m                                 Traceback (most recent call last)",
      "Input \u001b[1;32mIn [60]\u001b[0m, in \u001b[0;36m<cell line: 1>\u001b[1;34m()\u001b[0m\n\u001b[1;32m----> 1\u001b[0m x[\u001b[38;5;241m0\u001b[39m]\u001b[38;5;241m=\u001b[39m\u001b[38;5;124m'\u001b[39m\u001b[38;5;124mo\u001b[39m\u001b[38;5;124m'\u001b[39m\n",
      "\u001b[1;31mTypeError\u001b[0m: 'str' object does not support item assignment"
     ]
    }
   ],
   "source": [
    "x[0]='o'"
   ]
  },
  {
   "cell_type": "markdown",
   "id": "f6170e7e",
   "metadata": {},
   "source": [
    "# list-collection of objects"
   ]
  },
  {
   "cell_type": "code",
   "execution_count": 61,
   "id": "f80410bb",
   "metadata": {},
   "outputs": [],
   "source": [
    "x=[1,2,3.4,'arun',[1,2,3]]"
   ]
  },
  {
   "cell_type": "code",
   "execution_count": 71,
   "id": "244bd9a1",
   "metadata": {},
   "outputs": [],
   "source": [
    "x=[10,21,37]"
   ]
  },
  {
   "cell_type": "code",
   "execution_count": 72,
   "id": "c5f4b957",
   "metadata": {},
   "outputs": [
    {
     "data": {
      "text/plain": [
       "[10, 21, 37, 10, 21, 37]"
      ]
     },
     "execution_count": 72,
     "metadata": {},
     "output_type": "execute_result"
    }
   ],
   "source": [
    "x*2"
   ]
  },
  {
   "cell_type": "code",
   "execution_count": 74,
   "id": "e158a3aa",
   "metadata": {},
   "outputs": [],
   "source": [
    "x[0]=175"
   ]
  },
  {
   "cell_type": "code",
   "execution_count": 75,
   "id": "ea596997",
   "metadata": {},
   "outputs": [
    {
     "data": {
      "text/plain": [
       "[175, 21, 37]"
      ]
     },
     "execution_count": 75,
     "metadata": {},
     "output_type": "execute_result"
    }
   ],
   "source": [
    "x"
   ]
  },
  {
   "cell_type": "code",
   "execution_count": 78,
   "id": "4775a4f3",
   "metadata": {},
   "outputs": [
    {
     "data": {
      "text/plain": [
       "[175, 21, 37, 10, 10]"
      ]
     },
     "execution_count": 78,
     "metadata": {},
     "output_type": "execute_result"
    }
   ],
   "source": [
    "x.append(10)\n",
    "x"
   ]
  },
  {
   "cell_type": "code",
   "execution_count": 80,
   "id": "7f70b9ff",
   "metadata": {},
   "outputs": [
    {
     "data": {
      "text/plain": [
       "[175, 21, 37, 10, 10, [2, 3], [2, 3]]"
      ]
     },
     "execution_count": 80,
     "metadata": {},
     "output_type": "execute_result"
    }
   ],
   "source": [
    "x.append([2,3])\n",
    "x"
   ]
  },
  {
   "cell_type": "code",
   "execution_count": 81,
   "id": "1cc39458",
   "metadata": {},
   "outputs": [
    {
     "data": {
      "text/plain": [
       "[5, 6, 25, 64, 8, 6]"
      ]
     },
     "execution_count": 81,
     "metadata": {},
     "output_type": "execute_result"
    }
   ],
   "source": [
    "x=[5,6,25,64]\n",
    "x.extend([8,6])\n",
    "x"
   ]
  },
  {
   "cell_type": "code",
   "execution_count": 83,
   "id": "85e59a8e",
   "metadata": {},
   "outputs": [
    {
     "data": {
      "text/plain": [
       "[1, 5, 6, 8, 22, 47]"
      ]
     },
     "execution_count": 83,
     "metadata": {},
     "output_type": "execute_result"
    }
   ],
   "source": [
    "x=[1,22,5,6,47,8]\n",
    "x.sort()\n",
    "x"
   ]
  },
  {
   "cell_type": "code",
   "execution_count": 86,
   "id": "489a87e5",
   "metadata": {},
   "outputs": [
    {
     "data": {
      "text/plain": [
       "[47, 22, 8, 6, 5, 1]"
      ]
     },
     "execution_count": 86,
     "metadata": {},
     "output_type": "execute_result"
    }
   ],
   "source": [
    "x.sort(reverse=True)\n",
    "x"
   ]
  },
  {
   "cell_type": "code",
   "execution_count": 88,
   "id": "e943f07b",
   "metadata": {},
   "outputs": [
    {
     "data": {
      "text/plain": [
       "[10, 100, 12, 34, 89]"
      ]
     },
     "execution_count": 88,
     "metadata": {},
     "output_type": "execute_result"
    }
   ],
   "source": [
    "x=[10,12,34,89] # (1-location,2-value)\n",
    "x.insert(1,100)\n",
    "x"
   ]
  },
  {
   "cell_type": "code",
   "execution_count": 89,
   "id": "82649fb1",
   "metadata": {},
   "outputs": [
    {
     "data": {
      "text/plain": [
       "5"
      ]
     },
     "execution_count": 89,
     "metadata": {},
     "output_type": "execute_result"
    }
   ],
   "source": [
    "len(x)"
   ]
  },
  {
   "cell_type": "code",
   "execution_count": 90,
   "id": "fde1cad8",
   "metadata": {},
   "outputs": [
    {
     "data": {
      "text/plain": [
       "[10, 100, 12, 34, 89]"
      ]
     },
     "execution_count": 90,
     "metadata": {},
     "output_type": "execute_result"
    }
   ],
   "source": [
    "x"
   ]
  },
  {
   "cell_type": "code",
   "execution_count": 12,
   "id": "f153d634",
   "metadata": {},
   "outputs": [],
   "source": [
    "x=[10,20,30,10]\n",
    "del x[2]\n"
   ]
  },
  {
   "cell_type": "code",
   "execution_count": 13,
   "id": "51b4e9a4",
   "metadata": {},
   "outputs": [
    {
     "data": {
      "text/plain": [
       "[10, 20, 10]"
      ]
     },
     "execution_count": 13,
     "metadata": {},
     "output_type": "execute_result"
    }
   ],
   "source": [
    "x"
   ]
  },
  {
   "cell_type": "code",
   "execution_count": 14,
   "id": "eb4f7a03",
   "metadata": {},
   "outputs": [
    {
     "data": {
      "text/plain": [
       "[10, 30, 10]"
      ]
     },
     "execution_count": 14,
     "metadata": {},
     "output_type": "execute_result"
    }
   ],
   "source": [
    "x=[10,20,30,10]\n",
    "x.remove(20)\n",
    "x"
   ]
  },
  {
   "cell_type": "code",
   "execution_count": null,
   "id": "d655f82e",
   "metadata": {},
   "outputs": [],
   "source": [
    "x.index(10)"
   ]
  },
  {
   "cell_type": "code",
   "execution_count": 1,
   "id": "c391b93b",
   "metadata": {},
   "outputs": [],
   "source": [
    "x=[12,13,14]\n"
   ]
  },
  {
   "cell_type": "code",
   "execution_count": 2,
   "id": "05f68bd1",
   "metadata": {},
   "outputs": [
    {
     "data": {
      "text/plain": [
       "14"
      ]
     },
     "execution_count": 2,
     "metadata": {},
     "output_type": "execute_result"
    }
   ],
   "source": [
    "x.pop()"
   ]
  },
  {
   "cell_type": "code",
   "execution_count": 3,
   "id": "b82e155c",
   "metadata": {},
   "outputs": [
    {
     "data": {
      "text/plain": [
       "[12, 13]"
      ]
     },
     "execution_count": 3,
     "metadata": {},
     "output_type": "execute_result"
    }
   ],
   "source": [
    "x"
   ]
  },
  {
   "cell_type": "code",
   "execution_count": 1,
   "id": "a431e867",
   "metadata": {},
   "outputs": [
    {
     "data": {
      "text/plain": [
       "[12, 14]"
      ]
     },
     "execution_count": 1,
     "metadata": {},
     "output_type": "execute_result"
    }
   ],
   "source": [
    "x=[12,13,14]\n",
    "x.pop(1)\n",
    "x\n"
   ]
  },
  {
   "cell_type": "code",
   "execution_count": 7,
   "id": "fbf4f261",
   "metadata": {},
   "outputs": [],
   "source": [
    "a=\"python\""
   ]
  },
  {
   "cell_type": "code",
   "execution_count": 8,
   "id": "6df3c303",
   "metadata": {},
   "outputs": [],
   "source": [
    "a=list(a)"
   ]
  },
  {
   "cell_type": "code",
   "execution_count": 9,
   "id": "c489b1d9",
   "metadata": {},
   "outputs": [
    {
     "data": {
      "text/plain": [
       "['p', 'y', 't', 'h', 'o', 'n']"
      ]
     },
     "execution_count": 9,
     "metadata": {},
     "output_type": "execute_result"
    }
   ],
   "source": [
    "a"
   ]
  },
  {
   "cell_type": "code",
   "execution_count": 10,
   "id": "2d838b89",
   "metadata": {},
   "outputs": [
    {
     "data": {
      "text/plain": [
       "'python'"
      ]
     },
     "execution_count": 10,
     "metadata": {},
     "output_type": "execute_result"
    }
   ],
   "source": [
    "''.join(a)"
   ]
  },
  {
   "cell_type": "code",
   "execution_count": 11,
   "id": "a3a74c53",
   "metadata": {},
   "outputs": [
    {
     "data": {
      "text/plain": [
       "'p*y*t*h*o*n'"
      ]
     },
     "execution_count": 11,
     "metadata": {},
     "output_type": "execute_result"
    }
   ],
   "source": [
    "\"*\".join(a)"
   ]
  },
  {
   "cell_type": "markdown",
   "id": "8996ff16",
   "metadata": {},
   "source": [
    "# tuple"
   ]
  },
  {
   "cell_type": "code",
   "execution_count": 12,
   "id": "5491ead6",
   "metadata": {},
   "outputs": [
    {
     "data": {
      "text/plain": [
       "tuple"
      ]
     },
     "execution_count": 12,
     "metadata": {},
     "output_type": "execute_result"
    }
   ],
   "source": [
    "x=(10,20,30,\"hjhff\",True,[1,2,3],(1,2,2))\n",
    "type(x)"
   ]
  },
  {
   "cell_type": "code",
   "execution_count": 13,
   "id": "4cf2f76e",
   "metadata": {},
   "outputs": [
    {
     "data": {
      "text/plain": [
       "1"
      ]
     },
     "execution_count": 13,
     "metadata": {},
     "output_type": "execute_result"
    }
   ],
   "source": [
    "x.count(10)\n"
   ]
  },
  {
   "cell_type": "code",
   "execution_count": 16,
   "id": "af12bde5",
   "metadata": {},
   "outputs": [
    {
     "data": {
      "text/plain": [
       "(10,\n",
       " 20,\n",
       " 30,\n",
       " 'hjhff',\n",
       " True,\n",
       " [1, 2, 3],\n",
       " (1, 2, 2),\n",
       " 10,\n",
       " 20,\n",
       " 30,\n",
       " 'hjhff',\n",
       " True,\n",
       " [1, 2, 3],\n",
       " (1, 2, 2))"
      ]
     },
     "execution_count": 16,
     "metadata": {},
     "output_type": "execute_result"
    }
   ],
   "source": [
    "x+x"
   ]
  },
  {
   "cell_type": "code",
   "execution_count": 17,
   "id": "810fb14e",
   "metadata": {},
   "outputs": [
    {
     "data": {
      "text/plain": [
       "(10,\n",
       " 20,\n",
       " 30,\n",
       " 'hjhff',\n",
       " True,\n",
       " [1, 2, 3],\n",
       " (1, 2, 2),\n",
       " 10,\n",
       " 20,\n",
       " 30,\n",
       " 'hjhff',\n",
       " True,\n",
       " [1, 2, 3],\n",
       " (1, 2, 2))"
      ]
     },
     "execution_count": 17,
     "metadata": {},
     "output_type": "execute_result"
    }
   ],
   "source": [
    "x*2"
   ]
  },
  {
   "cell_type": "markdown",
   "id": "944d6484",
   "metadata": {},
   "source": [
    "# Dict"
   ]
  },
  {
   "cell_type": "code",
   "execution_count": 3,
   "id": "c17c6d8b",
   "metadata": {},
   "outputs": [],
   "source": [
    "names={\n",
    "    \"a\":['arun','akash',\"abi\"],\n",
    "    \"b\":[\"bat\"],\n",
    "    \"c\":[\"cat\"],\n",
    "    1:101,\n",
    "    \"d\":(1,22,3)\n",
    "}\n"
   ]
  },
  {
   "cell_type": "code",
   "execution_count": 4,
   "id": "19debbb2",
   "metadata": {},
   "outputs": [
    {
     "data": {
      "text/plain": [
       "['arun', 'akash', 'abi']"
      ]
     },
     "execution_count": 4,
     "metadata": {},
     "output_type": "execute_result"
    }
   ],
   "source": [
    "names[\"a\"]"
   ]
  },
  {
   "cell_type": "code",
   "execution_count": 26,
   "id": "34f22a8d",
   "metadata": {},
   "outputs": [
    {
     "data": {
      "text/plain": [
       "['cat']"
      ]
     },
     "execution_count": 26,
     "metadata": {},
     "output_type": "execute_result"
    }
   ],
   "source": [
    "names['c']"
   ]
  },
  {
   "cell_type": "code",
   "execution_count": 32,
   "id": "12f8b97c",
   "metadata": {},
   "outputs": [
    {
     "data": {
      "text/plain": [
       "dict_keys(['a', 'b', 'c', 1])"
      ]
     },
     "execution_count": 32,
     "metadata": {},
     "output_type": "execute_result"
    }
   ],
   "source": [
    "names.keys()"
   ]
  },
  {
   "cell_type": "code",
   "execution_count": 33,
   "id": "a8240bff",
   "metadata": {},
   "outputs": [
    {
     "data": {
      "text/plain": [
       "'akash'"
      ]
     },
     "execution_count": 33,
     "metadata": {},
     "output_type": "execute_result"
    }
   ],
   "source": [
    "names['a'][1]"
   ]
  },
  {
   "cell_type": "code",
   "execution_count": 38,
   "id": "71afa28c",
   "metadata": {},
   "outputs": [
    {
     "data": {
      "text/plain": [
       "(1, 22, 3)"
      ]
     },
     "execution_count": 38,
     "metadata": {},
     "output_type": "execute_result"
    }
   ],
   "source": [
    "names[\"d\"]"
   ]
  },
  {
   "cell_type": "code",
   "execution_count": 39,
   "id": "8ec4d619",
   "metadata": {},
   "outputs": [
    {
     "data": {
      "text/plain": [
       "dict_items([('a', ['arun', 'akash', 'abi']), ('b', ['bat']), ('c', ['cat']), (1, 101), ('d', (1, 22, 3))])"
      ]
     },
     "execution_count": 39,
     "metadata": {},
     "output_type": "execute_result"
    }
   ],
   "source": [
    "names.items()"
   ]
  },
  {
   "cell_type": "code",
   "execution_count": 40,
   "id": "33a85436",
   "metadata": {},
   "outputs": [
    {
     "data": {
      "text/plain": [
       "['cat']"
      ]
     },
     "execution_count": 40,
     "metadata": {},
     "output_type": "execute_result"
    }
   ],
   "source": [
    "names.pop(\"c\")"
   ]
  },
  {
   "cell_type": "code",
   "execution_count": 41,
   "id": "d72f5d74",
   "metadata": {},
   "outputs": [
    {
     "data": {
      "text/plain": [
       "{'a': ['arun', 'akash', 'abi'], 'b': ['bat'], 1: 101, 'd': (1, 22, 3)}"
      ]
     },
     "execution_count": 41,
     "metadata": {},
     "output_type": "execute_result"
    }
   ],
   "source": [
    "names"
   ]
  },
  {
   "cell_type": "code",
   "execution_count": 42,
   "id": "10f32977",
   "metadata": {},
   "outputs": [
    {
     "data": {
      "text/plain": [
       "['arun', 'akash', 'abi']"
      ]
     },
     "execution_count": 42,
     "metadata": {},
     "output_type": "execute_result"
    }
   ],
   "source": [
    "names.get(\"a\")"
   ]
  },
  {
   "cell_type": "code",
   "execution_count": 45,
   "id": "101a57d0",
   "metadata": {},
   "outputs": [],
   "source": [
    "names2={ \n",
    "    \"a\":['arun','akash',\"abi\",\"gdajith\"]\n",
    "    \n",
    "}"
   ]
  },
  {
   "cell_type": "code",
   "execution_count": 46,
   "id": "1646d383",
   "metadata": {},
   "outputs": [
    {
     "data": {
      "text/plain": [
       "{'a': ['arun', 'akash', 'abi', 'gdajith'],\n",
       " 'b': ['bat'],\n",
       " 1: 101,\n",
       " 'd': (1, 22, 3)}"
      ]
     },
     "execution_count": 46,
     "metadata": {},
     "output_type": "execute_result"
    }
   ],
   "source": [
    "names.update(names2)\n",
    "names"
   ]
  },
  {
   "cell_type": "code",
   "execution_count": 57,
   "id": "98585abc",
   "metadata": {},
   "outputs": [],
   "source": [
    "a=[(\"a\",1),(\"b\",2)]\n",
    "   "
   ]
  },
  {
   "cell_type": "code",
   "execution_count": 58,
   "id": "777fbfa3",
   "metadata": {},
   "outputs": [
    {
     "data": {
      "text/plain": [
       "{'a': 1, 'b': 2}"
      ]
     },
     "execution_count": 58,
     "metadata": {},
     "output_type": "execute_result"
    }
   ],
   "source": [
    "dict(a)"
   ]
  },
  {
   "cell_type": "code",
   "execution_count": 59,
   "id": "22d65114",
   "metadata": {},
   "outputs": [
    {
     "data": {
      "text/plain": [
       "[1, 2, 3, [1, 2, 3]]"
      ]
     },
     "execution_count": 59,
     "metadata": {},
     "output_type": "execute_result"
    }
   ],
   "source": [
    "a=[1,2,3]\n",
    "a.append([1,2,3])\n",
    "a"
   ]
  },
  {
   "cell_type": "code",
   "execution_count": 60,
   "id": "2d0c85bf",
   "metadata": {},
   "outputs": [],
   "source": [
    "a=[1,2,3]\n",
    "a.append(a)"
   ]
  },
  {
   "cell_type": "code",
   "execution_count": 61,
   "id": "eb6fdc32",
   "metadata": {},
   "outputs": [
    {
     "data": {
      "text/plain": [
       "[1, 2, 3, [...]]"
      ]
     },
     "execution_count": 61,
     "metadata": {},
     "output_type": "execute_result"
    }
   ],
   "source": [
    "a"
   ]
  },
  {
   "cell_type": "markdown",
   "id": "250e6234",
   "metadata": {},
   "source": [
    "# SET"
   ]
  },
  {
   "cell_type": "code",
   "execution_count": 1,
   "id": "ef300f67",
   "metadata": {},
   "outputs": [
    {
     "data": {
      "text/plain": [
       "{1, 2, 3, 4}"
      ]
     },
     "execution_count": 1,
     "metadata": {},
     "output_type": "execute_result"
    }
   ],
   "source": [
    "a={1,3,4,2,4}\n",
    "b={1,8,7,9}\n",
    "a"
   ]
  },
  {
   "cell_type": "code",
   "execution_count": 2,
   "id": "3d2a726f",
   "metadata": {},
   "outputs": [
    {
     "data": {
      "text/plain": [
       "{1, 2, 3, 4, 7, 8, 9}"
      ]
     },
     "execution_count": 2,
     "metadata": {},
     "output_type": "execute_result"
    }
   ],
   "source": [
    "a.union(b)"
   ]
  },
  {
   "cell_type": "code",
   "execution_count": 5,
   "id": "d59a0f2b",
   "metadata": {},
   "outputs": [
    {
     "data": {
      "text/plain": [
       "{1, 2, 3, 4, 7, 8, 9}"
      ]
     },
     "execution_count": 5,
     "metadata": {},
     "output_type": "execute_result"
    }
   ],
   "source": [
    "a | b #union"
   ]
  },
  {
   "cell_type": "code",
   "execution_count": 3,
   "id": "d1dbfe24",
   "metadata": {},
   "outputs": [
    {
     "data": {
      "text/plain": [
       "{1}"
      ]
     },
     "execution_count": 3,
     "metadata": {},
     "output_type": "execute_result"
    }
   ],
   "source": [
    "a&b #intersection"
   ]
  },
  {
   "cell_type": "code",
   "execution_count": 4,
   "id": "9dfed70d",
   "metadata": {},
   "outputs": [
    {
     "data": {
      "text/plain": [
       "{1}"
      ]
     },
     "execution_count": 4,
     "metadata": {},
     "output_type": "execute_result"
    }
   ],
   "source": [
    "a.intersection(b)"
   ]
  },
  {
   "cell_type": "markdown",
   "id": "4b24a33d",
   "metadata": {},
   "source": [
    "# for loop"
   ]
  },
  {
   "cell_type": "code",
   "execution_count": 29,
   "id": "a566f52b",
   "metadata": {},
   "outputs": [
    {
     "name": "stdout",
     "output_type": "stream",
     "text": [
      "1 [6]\n",
      "8 [6, 13]\n",
      "9 [6, 13, 14]\n",
      "10 [6, 13, 14, 15]\n"
     ]
    }
   ],
   "source": [
    "l=[1,8,9,10]\n",
    "new_list=[]\n",
    "for i in l:\n",
    "    new_list.append(i+5)\n",
    "    print(i,new_list)\n",
    "    \n",
    "  "
   ]
  },
  {
   "cell_type": "code",
   "execution_count": 2,
   "id": "648f6bbf",
   "metadata": {},
   "outputs": [],
   "source": [
    "l=[1,8,9,10]\n",
    "x=[]\n",
    "for i in l:\n",
    "    x.append(i+5)\n",
    "    "
   ]
  },
  {
   "cell_type": "code",
   "execution_count": 30,
   "id": "dd608d7a",
   "metadata": {},
   "outputs": [
    {
     "data": {
      "text/plain": [
       "[6, 13, 14, 15]"
      ]
     },
     "execution_count": 30,
     "metadata": {},
     "output_type": "execute_result"
    }
   ],
   "source": [
    "x"
   ]
  },
  {
   "cell_type": "code",
   "execution_count": 35,
   "id": "bf08578b",
   "metadata": {},
   "outputs": [
    {
     "name": "stdout",
     "output_type": "stream",
     "text": [
      "[1]\n",
      "[1, 64]\n",
      "[1, 64, 81]\n",
      "[1, 64, 81, 100]\n"
     ]
    }
   ],
   "source": [
    "l=[1,8,9,10]\n",
    "x=[]\n",
    "for i in l:\n",
    "    x.append(i**2)\n",
    "    print(x)"
   ]
  },
  {
   "cell_type": "code",
   "execution_count": 34,
   "id": "aec50eae",
   "metadata": {},
   "outputs": [
    {
     "data": {
      "text/plain": [
       "[1, 64, 81, 100]"
      ]
     },
     "execution_count": 34,
     "metadata": {},
     "output_type": "execute_result"
    }
   ],
   "source": [
    "x"
   ]
  },
  {
   "cell_type": "code",
   "execution_count": 43,
   "id": "4f68c81b",
   "metadata": {},
   "outputs": [],
   "source": [
    "#second method"
   ]
  },
  {
   "cell_type": "code",
   "execution_count": 62,
   "id": "1fd435d5",
   "metadata": {},
   "outputs": [
    {
     "name": "stdout",
     "output_type": "stream",
     "text": [
      "[1, 8, 9, 10]\n",
      "[1, 64, 9, 10]\n",
      "[1, 64, 81, 10]\n",
      "[1, 64, 81, 100]\n"
     ]
    }
   ],
   "source": [
    "l=[1,8,9,10]\n",
    "for i in range(4):\n",
    "    l[i]=l[i]**2\n",
    "    print(l)"
   ]
  },
  {
   "cell_type": "code",
   "execution_count": 63,
   "id": "29d126b0",
   "metadata": {},
   "outputs": [
    {
     "data": {
      "text/plain": [
       "[1, 64, 81, 100]"
      ]
     },
     "execution_count": 63,
     "metadata": {},
     "output_type": "execute_result"
    }
   ],
   "source": [
    "l"
   ]
  },
  {
   "cell_type": "code",
   "execution_count": 66,
   "id": "1689df00",
   "metadata": {},
   "outputs": [],
   "source": [
    "#for multiply\n",
    "l=[1,2,3,10]\n",
    "x=1\n",
    "for i in l:\n",
    "    x=x*i\n"
   ]
  },
  {
   "cell_type": "code",
   "execution_count": 65,
   "id": "5dbf173e",
   "metadata": {},
   "outputs": [
    {
     "data": {
      "text/plain": [
       "60"
      ]
     },
     "execution_count": 65,
     "metadata": {},
     "output_type": "execute_result"
    }
   ],
   "source": [
    "x"
   ]
  },
  {
   "cell_type": "code",
   "execution_count": 1,
   "id": "7c880bc1",
   "metadata": {},
   "outputs": [],
   "source": [
    "#for add\n",
    "l=[1,2,3,10]\n",
    "x=0\n",
    "for i in l:\n",
    "    x=x+i\n"
   ]
  },
  {
   "cell_type": "code",
   "execution_count": 2,
   "id": "adb78c0b",
   "metadata": {},
   "outputs": [
    {
     "data": {
      "text/plain": [
       "16"
      ]
     },
     "execution_count": 2,
     "metadata": {},
     "output_type": "execute_result"
    }
   ],
   "source": [
    "x"
   ]
  },
  {
   "cell_type": "markdown",
   "id": "8d32e426",
   "metadata": {},
   "source": [
    "# if else condition"
   ]
  },
  {
   "cell_type": "code",
   "execution_count": 1,
   "id": "aa302570",
   "metadata": {},
   "outputs": [
    {
     "name": "stdout",
     "output_type": "stream",
     "text": [
      "yes\n"
     ]
    }
   ],
   "source": [
    "x=10\n",
    "if x==10:\n",
    "    print('yes')\n",
    "     \n"
   ]
  },
  {
   "cell_type": "code",
   "execution_count": 16,
   "id": "0a9ba9f5",
   "metadata": {},
   "outputs": [],
   "source": [
    "x=[1,2,3,4,6,8,9]\n",
    "m=[]\n",
    "for i in x:\n",
    "    if i%2==0:\n",
    "        m.append(i)\n",
    "\n",
    "    \n",
    "        \n",
    "        \n",
    "    "
   ]
  },
  {
   "cell_type": "code",
   "execution_count": 17,
   "id": "206701b3",
   "metadata": {},
   "outputs": [
    {
     "data": {
      "text/plain": [
       "[2, 4, 6, 8]"
      ]
     },
     "execution_count": 17,
     "metadata": {},
     "output_type": "execute_result"
    }
   ],
   "source": [
    "m"
   ]
  },
  {
   "cell_type": "code",
   "execution_count": 26,
   "id": "7e456cf6",
   "metadata": {},
   "outputs": [
    {
     "name": "stdout",
     "output_type": "stream",
     "text": [
      "No\n"
     ]
    }
   ],
   "source": [
    "x=10.7\n",
    "if x==10:\n",
    "    print('yes')\n",
    "else:\n",
    "    print('No')"
   ]
  },
  {
   "cell_type": "code",
   "execution_count": 37,
   "id": "e37aa81b",
   "metadata": {},
   "outputs": [],
   "source": [
    "x=5\n",
    "if x==5:\n",
    "    x=7\n",
    "elif x==7:\n",
    "    x=30\n",
    "elif x==30:\n",
    "    x=12\n",
    "else:\n",
    "    x=10\n"
   ]
  },
  {
   "cell_type": "code",
   "execution_count": 38,
   "id": "10beae39",
   "metadata": {},
   "outputs": [
    {
     "data": {
      "text/plain": [
       "7"
      ]
     },
     "execution_count": 38,
     "metadata": {},
     "output_type": "execute_result"
    }
   ],
   "source": [
    "x"
   ]
  },
  {
   "cell_type": "code",
   "execution_count": 39,
   "id": "88148006",
   "metadata": {},
   "outputs": [],
   "source": [
    "x=54\n",
    "if x==5:\n",
    "    x=7\n",
    "elif x==7:\n",
    "    x=30\n",
    "elif x==30:\n",
    "    x=12\n",
    "else:\n",
    "    x=10"
   ]
  },
  {
   "cell_type": "code",
   "execution_count": 40,
   "id": "bfb5bad0",
   "metadata": {},
   "outputs": [
    {
     "data": {
      "text/plain": [
       "10"
      ]
     },
     "execution_count": 40,
     "metadata": {},
     "output_type": "execute_result"
    }
   ],
   "source": [
    "x"
   ]
  },
  {
   "cell_type": "code",
   "execution_count": 59,
   "id": "0e2ae317",
   "metadata": {},
   "outputs": [
    {
     "name": "stdout",
     "output_type": "stream",
     "text": [
      "[2, 4, 6, 8, 10] [1, 3, 5, 7, 9]\n",
      "even number list [2, 4, 6, 8, 10]\n",
      "odd number list [1, 3, 5, 7, 9]\n"
     ]
    }
   ],
   "source": [
    "x=[1,2,3,4,5,6,7,8,9,10]\n",
    "m1=[]\n",
    "m2=[]\n",
    "for i in x:\n",
    "    if i%2==0:\n",
    "        m1.append(i)\n",
    "    else:\n",
    "        m2.append(i)\n",
    "\n",
    "print (m1,m2)\n",
    "print('even number list',m1)\n",
    "print(\"odd number list\",m2)\n",
    "    "
   ]
  },
  {
   "cell_type": "markdown",
   "id": "49e98e79",
   "metadata": {},
   "source": [
    "# functions in python"
   ]
  },
  {
   "cell_type": "code",
   "execution_count": 82,
   "id": "7ee1bad8",
   "metadata": {},
   "outputs": [
    {
     "data": {
      "text/plain": [
       "100"
      ]
     },
     "execution_count": 82,
     "metadata": {},
     "output_type": "execute_result"
    }
   ],
   "source": [
    "#inbuilt function-pow\n",
    "pow(10,2)"
   ]
  },
  {
   "cell_type": "code",
   "execution_count": 86,
   "id": "e1b8cf29",
   "metadata": {},
   "outputs": [],
   "source": [
    "#create own function\n",
    "#def -defining a function\n",
    "# return statement is a special statement that you can use inside a function or \n",
    "#method to send the function's result back to the caller\n",
    "\n",
    "\n",
    "def arun(x,y):\n",
    "    return x**y\n"
   ]
  },
  {
   "cell_type": "code",
   "execution_count": 84,
   "id": "6cd3ef8f",
   "metadata": {},
   "outputs": [
    {
     "data": {
      "text/plain": [
       "100"
      ]
     },
     "execution_count": 84,
     "metadata": {},
     "output_type": "execute_result"
    }
   ],
   "source": [
    "arun(10,2)"
   ]
  },
  {
   "cell_type": "code",
   "execution_count": 87,
   "id": "de87a381",
   "metadata": {},
   "outputs": [],
   "source": [
    "def kumar(x):\n",
    "    if x%2==0:\n",
    "        print(\"it is even\")\n",
    "    elif x%2==1:\n",
    "        print(\"it is odd\")\n",
    "        "
   ]
  },
  {
   "cell_type": "code",
   "execution_count": 91,
   "id": "312df9d7",
   "metadata": {},
   "outputs": [
    {
     "name": "stdout",
     "output_type": "stream",
     "text": [
      "it is even\n"
     ]
    }
   ],
   "source": [
    "kumar(2)"
   ]
  },
  {
   "cell_type": "code",
   "execution_count": 92,
   "id": "9d953e35",
   "metadata": {},
   "outputs": [
    {
     "name": "stdout",
     "output_type": "stream",
     "text": [
      "it is odd\n"
     ]
    }
   ],
   "source": [
    "kumar(5)"
   ]
  },
  {
   "cell_type": "code",
   "execution_count": 99,
   "id": "59846fc0",
   "metadata": {},
   "outputs": [],
   "source": [
    "def hai(x):\n",
    "    return(x*10)\n"
   ]
  },
  {
   "cell_type": "code",
   "execution_count": 100,
   "id": "fb2c9173",
   "metadata": {},
   "outputs": [
    {
     "data": {
      "text/plain": [
       "50"
      ]
     },
     "execution_count": 100,
     "metadata": {},
     "output_type": "execute_result"
    }
   ],
   "source": [
    "hai(5)"
   ]
  },
  {
   "cell_type": "code",
   "execution_count": 102,
   "id": "effa0719",
   "metadata": {},
   "outputs": [],
   "source": [
    "def my_fun(x):\n",
    "    if x==10:\n",
    "        return(15)\n",
    "    x=10+4\n",
    "    return(5)"
   ]
  },
  {
   "cell_type": "code",
   "execution_count": 107,
   "id": "26d5a937",
   "metadata": {},
   "outputs": [
    {
     "data": {
      "text/plain": [
       "15"
      ]
     },
     "execution_count": 107,
     "metadata": {},
     "output_type": "execute_result"
    }
   ],
   "source": [
    "my_fun(10)"
   ]
  },
  {
   "cell_type": "code",
   "execution_count": 108,
   "id": "39b894b4",
   "metadata": {},
   "outputs": [
    {
     "data": {
      "text/plain": [
       "5"
      ]
     },
     "execution_count": 108,
     "metadata": {},
     "output_type": "execute_result"
    }
   ],
   "source": [
    "my_fun(14)"
   ]
  },
  {
   "cell_type": "code",
   "execution_count": 109,
   "id": "2c360331",
   "metadata": {},
   "outputs": [
    {
     "data": {
      "text/plain": [
       "5"
      ]
     },
     "execution_count": 109,
     "metadata": {},
     "output_type": "execute_result"
    }
   ],
   "source": [
    "my_fun(8555)"
   ]
  },
  {
   "cell_type": "code",
   "execution_count": 6,
   "id": "6ec70017",
   "metadata": {},
   "outputs": [],
   "source": [
    "def even_odd_frac(l):\n",
    "    \n",
    "    m1=[]\n",
    "    m2=[]\n",
    "    m3=[]\n",
    "    for i in l:\n",
    "        if i%2==0:\n",
    "            m1.append(i)\n",
    "       \n",
    "        elif i%2==1:\n",
    "            m2.append(i)\n",
    "        else:\n",
    "            m3.append(i)\n",
    "             \n",
    "    return m1,m2,m3\n",
    "    \n",
    "   "
   ]
  },
  {
   "cell_type": "code",
   "execution_count": 7,
   "id": "288f09e1",
   "metadata": {},
   "outputs": [],
   "source": [
    "l=[1,2,3,4,5,6,7,8,9.5,10.2,12.0]\n",
    "m1,m2,m3=even_odd_frac(l)\n"
   ]
  },
  {
   "cell_type": "code",
   "execution_count": 8,
   "id": "7316166c",
   "metadata": {},
   "outputs": [
    {
     "data": {
      "text/plain": [
       "[2, 4, 6, 8, 12.0]"
      ]
     },
     "execution_count": 8,
     "metadata": {},
     "output_type": "execute_result"
    }
   ],
   "source": [
    "m1"
   ]
  },
  {
   "cell_type": "code",
   "execution_count": 9,
   "id": "6cdb335d",
   "metadata": {},
   "outputs": [
    {
     "data": {
      "text/plain": [
       "[1, 3, 5, 7]"
      ]
     },
     "execution_count": 9,
     "metadata": {},
     "output_type": "execute_result"
    }
   ],
   "source": [
    "m2"
   ]
  },
  {
   "cell_type": "code",
   "execution_count": 10,
   "id": "7ecebef7",
   "metadata": {},
   "outputs": [
    {
     "data": {
      "text/plain": [
       "[9.5, 10.2]"
      ]
     },
     "execution_count": 10,
     "metadata": {},
     "output_type": "execute_result"
    }
   ],
   "source": [
    "m3"
   ]
  },
  {
   "cell_type": "code",
   "execution_count": 41,
   "id": "b1366d55",
   "metadata": {},
   "outputs": [
    {
     "data": {
      "text/plain": [
       "([2, 4, 6, 8, 12.0], [1, 3, 5, 7], [9.5, 10.2])"
      ]
     },
     "execution_count": 41,
     "metadata": {},
     "output_type": "execute_result"
    }
   ],
   "source": [
    "even_odd_frac([1,2,3,4,5,6,7,8,9.5,10.2,12.0])"
   ]
  },
  {
   "cell_type": "code",
   "execution_count": 42,
   "id": "befb23f6",
   "metadata": {},
   "outputs": [],
   "source": [
    "# HW -PRINT PRIME NUMBERS BY FUNCTIONS- def prime(x)"
   ]
  },
  {
   "cell_type": "markdown",
   "id": "d463066d",
   "metadata": {},
   "source": [
    "# list comprehension - replacement of for loop"
   ]
  },
  {
   "cell_type": "code",
   "execution_count": 3,
   "id": "59ee5554",
   "metadata": {},
   "outputs": [],
   "source": [
    "l=[1,8,9,10]\n",
    "m=[2*i for i in l]"
   ]
  },
  {
   "cell_type": "code",
   "execution_count": 5,
   "id": "0c2d0a28",
   "metadata": {},
   "outputs": [
    {
     "data": {
      "text/plain": [
       "[2, 16, 18, 20]"
      ]
     },
     "execution_count": 5,
     "metadata": {},
     "output_type": "execute_result"
    }
   ],
   "source": [
    "m"
   ]
  },
  {
   "cell_type": "code",
   "execution_count": 6,
   "id": "fb0c0927",
   "metadata": {},
   "outputs": [],
   "source": [
    "l=[1,8,9,10]\n",
    "m=[i for i in l if i%2==0]\n"
   ]
  },
  {
   "cell_type": "code",
   "execution_count": 7,
   "id": "8128da85",
   "metadata": {},
   "outputs": [
    {
     "data": {
      "text/plain": [
       "[8, 10]"
      ]
     },
     "execution_count": 7,
     "metadata": {},
     "output_type": "execute_result"
    }
   ],
   "source": [
    "m"
   ]
  },
  {
   "cell_type": "code",
   "execution_count": 10,
   "id": "f475ac39",
   "metadata": {},
   "outputs": [
    {
     "data": {
      "text/plain": [
       "['odd', 'even', 'odd', 'even']"
      ]
     },
     "execution_count": 10,
     "metadata": {},
     "output_type": "execute_result"
    }
   ],
   "source": [
    "#just example\n",
    "l=[1,8,9,10]\n",
    "[\"even\" if i%2==0 else \"odd\" for i in l]"
   ]
  },
  {
   "cell_type": "markdown",
   "id": "d1ac424f",
   "metadata": {},
   "source": [
    "# map function"
   ]
  },
  {
   "cell_type": "code",
   "execution_count": 11,
   "id": "ed79c346",
   "metadata": {},
   "outputs": [],
   "source": [
    "def even_odd(x):\n",
    "    if x%2==0:\n",
    "        return(\"it is even\")\n",
    "    elif x%2==1:\n",
    "        return(\"it is odd\")"
   ]
  },
  {
   "cell_type": "code",
   "execution_count": 26,
   "id": "c1593500",
   "metadata": {},
   "outputs": [
    {
     "data": {
      "text/plain": [
       "'it is odd'"
      ]
     },
     "execution_count": 26,
     "metadata": {},
     "output_type": "execute_result"
    }
   ],
   "source": [
    "\n",
    "even_odd(11)"
   ]
  },
  {
   "cell_type": "code",
   "execution_count": 28,
   "id": "ffc3e29a",
   "metadata": {},
   "outputs": [],
   "source": [
    "def even_odd(x):\n",
    "    if x%2==0:\n",
    "        return(\"it is even\")\n",
    "    elif x%2==1:\n",
    "        return(\"it is odd\")"
   ]
  },
  {
   "cell_type": "code",
   "execution_count": 34,
   "id": "4fe04e10",
   "metadata": {},
   "outputs": [],
   "source": [
    "x=[10,15,19,21,23,29,28]\n",
    "output=map(even_odd,x)"
   ]
  },
  {
   "cell_type": "code",
   "execution_count": 35,
   "id": "84d405c9",
   "metadata": {},
   "outputs": [
    {
     "data": {
      "text/plain": [
       "['it is even',\n",
       " 'it is odd',\n",
       " 'it is odd',\n",
       " 'it is odd',\n",
       " 'it is odd',\n",
       " 'it is odd',\n",
       " 'it is even']"
      ]
     },
     "execution_count": 35,
     "metadata": {},
     "output_type": "execute_result"
    }
   ],
   "source": [
    "list(output)"
   ]
  },
  {
   "cell_type": "markdown",
   "id": "da3f0fad",
   "metadata": {},
   "source": [
    "# expectations in python"
   ]
  },
  {
   "cell_type": "code",
   "execution_count": 42,
   "id": "15497c0d",
   "metadata": {},
   "outputs": [],
   "source": [
    "#python runs by line by line execution if any error\n",
    "#got in middle stops there..\n",
    "#but with the use of except overcome or jump the error.\n",
    "\n",
    "def division(x,y):\n",
    "    try:\n",
    "        return (x/y)\n",
    "    except:\n",
    "        print(\"we got an error\")\n",
    "    \n",
    "    "
   ]
  },
  {
   "cell_type": "code",
   "execution_count": 43,
   "id": "7e787af3",
   "metadata": {},
   "outputs": [
    {
     "data": {
      "text/plain": [
       "2.0"
      ]
     },
     "execution_count": 43,
     "metadata": {},
     "output_type": "execute_result"
    }
   ],
   "source": [
    "division(4,2)"
   ]
  },
  {
   "cell_type": "code",
   "execution_count": 44,
   "id": "5ef41101",
   "metadata": {},
   "outputs": [
    {
     "name": "stdout",
     "output_type": "stream",
     "text": [
      "we got an error\n"
     ]
    }
   ],
   "source": [
    "division(2,0)"
   ]
  },
  {
   "cell_type": "code",
   "execution_count": 50,
   "id": "78ebe0de",
   "metadata": {},
   "outputs": [],
   "source": [
    "# finally (optional)\n",
    "def division(x,y):\n",
    "    try:\n",
    "        return (x/y)\n",
    "    except:\n",
    "        print(\"we got an error\")\n",
    "    finally:\n",
    "            print(\"we will do this\")"
   ]
  },
  {
   "cell_type": "code",
   "execution_count": 52,
   "id": "7d5b1949",
   "metadata": {},
   "outputs": [
    {
     "name": "stdout",
     "output_type": "stream",
     "text": [
      "we will do this\n"
     ]
    },
    {
     "data": {
      "text/plain": [
       "2.0"
      ]
     },
     "execution_count": 52,
     "metadata": {},
     "output_type": "execute_result"
    }
   ],
   "source": [
    "division(8,4)"
   ]
  },
  {
   "cell_type": "code",
   "execution_count": 56,
   "id": "d67719c3",
   "metadata": {},
   "outputs": [
    {
     "name": "stdout",
     "output_type": "stream",
     "text": [
      "we got an error\n",
      "we will do this\n"
     ]
    }
   ],
   "source": [
    "division(15,0)"
   ]
  },
  {
   "cell_type": "markdown",
   "id": "6e823b02",
   "metadata": {},
   "source": [
    "# default values in a function"
   ]
  },
  {
   "cell_type": "code",
   "execution_count": 61,
   "id": "e4db9af6",
   "metadata": {},
   "outputs": [],
   "source": [
    "#if u send the values ,it does not use the default values..\n",
    "\n",
    "def multiplication(x=2,y=4):\n",
    "    \n",
    "    return x*y"
   ]
  },
  {
   "cell_type": "code",
   "execution_count": 62,
   "id": "29855fa4",
   "metadata": {},
   "outputs": [
    {
     "data": {
      "text/plain": [
       "8"
      ]
     },
     "execution_count": 62,
     "metadata": {},
     "output_type": "execute_result"
    }
   ],
   "source": [
    "multiplication()"
   ]
  },
  {
   "cell_type": "code",
   "execution_count": 63,
   "id": "a6e89e1b",
   "metadata": {},
   "outputs": [],
   "source": [
    "def multiplication(x=2,y=4):\n",
    "    \n",
    "    return x*y"
   ]
  },
  {
   "cell_type": "code",
   "execution_count": 64,
   "id": "946cba9e",
   "metadata": {},
   "outputs": [
    {
     "data": {
      "text/plain": [
       "20"
      ]
     },
     "execution_count": 64,
     "metadata": {},
     "output_type": "execute_result"
    }
   ],
   "source": [
    "multiplication(5,4)"
   ]
  },
  {
   "cell_type": "code",
   "execution_count": 1,
   "id": "ae9f2667",
   "metadata": {},
   "outputs": [],
   "source": [
    "#prime number problem"
   ]
  },
  {
   "cell_type": "code",
   "execution_count": 1,
   "id": "f3db83ca",
   "metadata": {},
   "outputs": [],
   "source": [
    "def prime(x):\n",
    "    if x<2:\n",
    "        return \"not prime\"\n",
    "    if x==2:\n",
    "        return \"prime\"\n",
    "    for i in range(2,x):\n",
    "        if x%i==0:\n",
    "            return \"not prime\"\n",
    "    return'prime'\n"
   ]
  },
  {
   "cell_type": "code",
   "execution_count": null,
   "id": "c3ae74fe",
   "metadata": {},
   "outputs": [
    {
     "name": "stdout",
     "output_type": "stream",
     "text": [
      "please enter the number\n"
     ]
    }
   ],
   "source": [
    "#optional\n",
    "print(\"please enter the number\")\n",
    "number=int(input())\n",
    "prime(number)"
   ]
  },
  {
   "cell_type": "code",
   "execution_count": 33,
   "id": "6c63d1b4",
   "metadata": {},
   "outputs": [],
   "source": [
    "#Another method\n",
    "def is_prime(x):\n",
    "    a=\"prime\"\n",
    "    b=\"not prime\"\n",
    "    \n",
    "    if x<2:\n",
    "        return b\n",
    "    if x==2:\n",
    "        return a\n",
    "    else:\n",
    "        for i in range(2,x):\n",
    "            if x % i==0:\n",
    "                return b\n",
    "            return a"
   ]
  },
  {
   "cell_type": "code",
   "execution_count": 32,
   "id": "e6956fc8",
   "metadata": {},
   "outputs": [
    {
     "data": {
      "text/plain": [
       "'prime'"
      ]
     },
     "execution_count": 32,
     "metadata": {},
     "output_type": "execute_result"
    }
   ],
   "source": [
    "is_prime(55)"
   ]
  },
  {
   "cell_type": "markdown",
   "id": "6c685488",
   "metadata": {},
   "source": [
    "# Filter object"
   ]
  },
  {
   "cell_type": "code",
   "execution_count": 5,
   "id": "923c72e2",
   "metadata": {},
   "outputs": [],
   "source": [
    "#Filter object works only in boolean operator (true,false)\n",
    "def isit_prime(x):\n",
    "    a=True\n",
    "    b=False\n",
    "    \n",
    "    if x<2:\n",
    "        return b\n",
    "    if x==2:\n",
    "        return a\n",
    "    else:\n",
    "        for i in range(2,x):\n",
    "            if (x % i) == 0:\n",
    "                return b\n",
    "            return a\n",
    "        \n",
    "    "
   ]
  },
  {
   "cell_type": "code",
   "execution_count": 6,
   "id": "0535187f",
   "metadata": {},
   "outputs": [
    {
     "data": {
      "text/plain": [
       "[21, 23, 25, 27, 29, 31, 33, 35, 37, 39, 41, 43, 45, 47, 49]"
      ]
     },
     "execution_count": 6,
     "metadata": {},
     "output_type": "execute_result"
    }
   ],
   "source": [
    "output=filter(isit_prime,range(20,50))\n",
    "\n",
    "list(output)"
   ]
  },
  {
   "cell_type": "code",
   "execution_count": 7,
   "id": "6ab918fc",
   "metadata": {},
   "outputs": [
    {
     "data": {
      "text/plain": [
       "[False,\n",
       " True,\n",
       " False,\n",
       " True,\n",
       " False,\n",
       " True,\n",
       " False,\n",
       " True,\n",
       " False,\n",
       " True,\n",
       " False,\n",
       " True,\n",
       " False,\n",
       " True,\n",
       " False,\n",
       " True,\n",
       " False,\n",
       " True,\n",
       " False,\n",
       " True,\n",
       " False,\n",
       " True,\n",
       " False,\n",
       " True,\n",
       " False,\n",
       " True,\n",
       " False,\n",
       " True,\n",
       " False,\n",
       " True]"
      ]
     },
     "execution_count": 7,
     "metadata": {},
     "output_type": "execute_result"
    }
   ],
   "source": [
    "output=map(isit_prime,range(20,50))\n",
    "\n",
    "list(output)"
   ]
  },
  {
   "cell_type": "markdown",
   "id": "013b0140",
   "metadata": {},
   "source": [
    "# iter or generate object"
   ]
  },
  {
   "cell_type": "code",
   "execution_count": 3,
   "id": "1c655e0f",
   "metadata": {},
   "outputs": [],
   "source": [
    "x=[i*2 for i in range(1,100)]\n",
    "\n"
   ]
  },
  {
   "cell_type": "code",
   "execution_count": 4,
   "id": "38d49237",
   "metadata": {},
   "outputs": [],
   "source": [
    "x=(i**2 for i in range (1,1000))"
   ]
  },
  {
   "cell_type": "code",
   "execution_count": 6,
   "id": "d4799bbf",
   "metadata": {},
   "outputs": [
    {
     "data": {
      "text/plain": [
       "4"
      ]
     },
     "execution_count": 6,
     "metadata": {},
     "output_type": "execute_result"
    }
   ],
   "source": [
    "next(x)"
   ]
  },
  {
   "cell_type": "code",
   "execution_count": 11,
   "id": "5fd5b3d6",
   "metadata": {},
   "outputs": [
    {
     "data": {
      "text/plain": [
       "[1,\n",
       " 4,\n",
       " 9,\n",
       " 16,\n",
       " 25,\n",
       " 36,\n",
       " 49,\n",
       " 64,\n",
       " 81,\n",
       " 100,\n",
       " 121,\n",
       " 144,\n",
       " 169,\n",
       " 196,\n",
       " 225,\n",
       " 256,\n",
       " 289,\n",
       " 324,\n",
       " 361,\n",
       " 400,\n",
       " 441,\n",
       " 484,\n",
       " 529,\n",
       " 576,\n",
       " 625,\n",
       " 676,\n",
       " 729,\n",
       " 784,\n",
       " 841,\n",
       " 900,\n",
       " 961,\n",
       " 1024,\n",
       " 1089,\n",
       " 1156,\n",
       " 1225,\n",
       " 1296,\n",
       " 1369,\n",
       " 1444,\n",
       " 1521,\n",
       " 1600,\n",
       " 1681]"
      ]
     },
     "execution_count": 11,
     "metadata": {},
     "output_type": "execute_result"
    }
   ],
   "source": [
    "x=(i**2 for i in range (1,42))\n",
    "list(x)"
   ]
  },
  {
   "cell_type": "code",
   "execution_count": null,
   "id": "9c362480",
   "metadata": {},
   "outputs": [],
   "source": [
    "#map is also iterable object"
   ]
  },
  {
   "cell_type": "code",
   "execution_count": 13,
   "id": "d5098c20",
   "metadata": {},
   "outputs": [
    {
     "data": {
      "text/plain": [
       "1"
      ]
     },
     "execution_count": 13,
     "metadata": {},
     "output_type": "execute_result"
    }
   ],
   "source": [
    "x=(i**2 for i in range (1,5))\n",
    "next(x)"
   ]
  },
  {
   "cell_type": "code",
   "execution_count": 14,
   "id": "42513d95",
   "metadata": {},
   "outputs": [
    {
     "data": {
      "text/plain": [
       "[4, 9, 16]"
      ]
     },
     "execution_count": 14,
     "metadata": {},
     "output_type": "execute_result"
    }
   ],
   "source": [
    "list(x)"
   ]
  },
  {
   "cell_type": "code",
   "execution_count": 15,
   "id": "2fc4d1e9",
   "metadata": {},
   "outputs": [],
   "source": [
    "#list work after the next , remaining no"
   ]
  },
  {
   "cell_type": "markdown",
   "id": "269ccee0",
   "metadata": {},
   "source": [
    "# Lambda functions - replacement for def function"
   ]
  },
  {
   "cell_type": "code",
   "execution_count": 16,
   "id": "d6942e14",
   "metadata": {},
   "outputs": [],
   "source": [
    "def multiply(x,y):\n",
    "    return x*y"
   ]
  },
  {
   "cell_type": "code",
   "execution_count": 17,
   "id": "1a6b9eb1",
   "metadata": {},
   "outputs": [
    {
     "data": {
      "text/plain": [
       "50"
      ]
     },
     "execution_count": 17,
     "metadata": {},
     "output_type": "execute_result"
    }
   ],
   "source": [
    "multiply(10,5)"
   ]
  },
  {
   "cell_type": "code",
   "execution_count": 18,
   "id": "852c06a8",
   "metadata": {},
   "outputs": [],
   "source": [
    "MUL=lambda x,y :x*y"
   ]
  },
  {
   "cell_type": "code",
   "execution_count": 19,
   "id": "10a24c1e",
   "metadata": {},
   "outputs": [
    {
     "data": {
      "text/plain": [
       "50"
      ]
     },
     "execution_count": 19,
     "metadata": {},
     "output_type": "execute_result"
    }
   ],
   "source": [
    "MUL(10,5)"
   ]
  },
  {
   "cell_type": "code",
   "execution_count": 23,
   "id": "c8958b49",
   "metadata": {},
   "outputs": [],
   "source": [
    "even_odd=lambda x:\"even\" if (x%2==0) else \"odd\"\n",
    "    "
   ]
  },
  {
   "cell_type": "code",
   "execution_count": 25,
   "id": "d8006b76",
   "metadata": {},
   "outputs": [
    {
     "data": {
      "text/plain": [
       "'even'"
      ]
     },
     "execution_count": 25,
     "metadata": {},
     "output_type": "execute_result"
    }
   ],
   "source": [
    "even_odd(5)\n",
    "even_odd(10)"
   ]
  },
  {
   "cell_type": "code",
   "execution_count": 26,
   "id": "97e48f33",
   "metadata": {},
   "outputs": [
    {
     "data": {
      "text/plain": [
       "'odd'"
      ]
     },
     "execution_count": 26,
     "metadata": {},
     "output_type": "execute_result"
    }
   ],
   "source": [
    "even_odd(5)"
   ]
  },
  {
   "cell_type": "code",
   "execution_count": 27,
   "id": "fd7c3154",
   "metadata": {},
   "outputs": [],
   "source": [
    "#prime function using lambda H.W"
   ]
  },
  {
   "cell_type": "code",
   "execution_count": null,
   "id": "a3402e6f",
   "metadata": {},
   "outputs": [],
   "source": []
  }
 ],
 "metadata": {
  "kernelspec": {
   "display_name": "Python 3 (ipykernel)",
   "language": "python",
   "name": "python3"
  },
  "language_info": {
   "codemirror_mode": {
    "name": "ipython",
    "version": 3
   },
   "file_extension": ".py",
   "mimetype": "text/x-python",
   "name": "python",
   "nbconvert_exporter": "python",
   "pygments_lexer": "ipython3",
   "version": "3.9.12"
  }
 },
 "nbformat": 4,
 "nbformat_minor": 5
}
